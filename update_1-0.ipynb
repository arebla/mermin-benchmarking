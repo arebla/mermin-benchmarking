{
 "cells": [
  {
   "cell_type": "markdown",
   "id": "c5c200ab-60fd-40d9-8283-0280dc6e9146",
   "metadata": {},
   "source": [
    "# Run circuits in Qiskit 1.0\n",
    "\n",
    "Source: https://github.com/qiskit-community/ibm-quantum-challenge-2024"
   ]
  },
  {
   "cell_type": "code",
   "execution_count": 1,
   "id": "c07dd414-e731-469b-9b8f-3ff178aa59fb",
   "metadata": {},
   "outputs": [],
   "source": [
    "from qiskit import QuantumCircuit\n",
    "from qiskit.quantum_info import SparsePauliOp\n",
    "\n",
    "from qiskit_aer import AerSimulator\n",
    "from qiskit_ibm_runtime.fake_provider import FakeSherbrooke"
   ]
  },
  {
   "cell_type": "markdown",
   "id": "06c2c8a8-e1f4-4eb4-985e-fb0d39d3adf3",
   "metadata": {},
   "source": [
    "## IBM Runtime\n",
    "Real and fake circuits."
   ]
  },
  {
   "cell_type": "markdown",
   "id": "d01a940f-b6b2-4503-a6f7-f852e6a1976a",
   "metadata": {},
   "source": [
    "### EstimatorV2"
   ]
  },
  {
   "cell_type": "code",
   "execution_count": 2,
   "id": "4ba8d778-b76d-4a33-8d97-28917d56703c",
   "metadata": {},
   "outputs": [
    {
     "name": "stdout",
     "output_type": "stream",
     "text": [
      "[0.02099609 0.00341797 0.02099609 0.00341797 1.         1.        ]\n"
     ]
    }
   ],
   "source": [
    "from qiskit_ibm_runtime import EstimatorV2 as Estimator\n",
    "\n",
    "qc = QuantumCircuit(2)\n",
    "qc.h(0)\n",
    "qc.cx(0, 1)\n",
    "\n",
    "obs = ['IZ', 'IX', 'ZI', 'XI', 'ZZ', 'XX']\n",
    "observables = []\n",
    "for o in obs:\n",
    "    observables.append(SparsePauliOp(o))\n",
    "\n",
    "estimator = Estimator(mode=AerSimulator())\n",
    "pub = (qc, observables)\n",
    "\n",
    "job = estimator.run(pubs=[pub])\n",
    "result = job.result()[0].data.evs\n",
    "print(result)"
   ]
  },
  {
   "cell_type": "markdown",
   "id": "de0bf3cb-18f6-4401-b1cd-613f6f2bdec2",
   "metadata": {},
   "source": [
    "### SamplerV2"
   ]
  },
  {
   "cell_type": "code",
   "execution_count": 3,
   "id": "7d4b4a71-6c80-4ae1-ae68-8e626d539bd2",
   "metadata": {},
   "outputs": [
    {
     "name": "stdout",
     "output_type": "stream",
     "text": [
      "{'11': 508, '00': 492, '01': 14, '10': 10}\n"
     ]
    }
   ],
   "source": [
    "from qiskit_ibm_runtime import SamplerV2 as Sampler\n",
    "from qiskit import transpile\n",
    "from qiskit_ibm_runtime.fake_provider import FakeSherbrooke, FakePrague\n",
    "qc = QuantumCircuit(2)\n",
    "qc.h(0)\n",
    "qc.cx(0, 1)\n",
    "qc.measure_all()\n",
    "#pm = generate_preset_pass_manager(backend=aer_sim, optimization_level=3)\n",
    "#isa_circuit = pm.run(qc)\n",
    "transp = transpile(qc, backend=FakePrague())\n",
    "aer_sim = AerSimulator()\n",
    "sampler = Sampler(mode=FakePrague())\n",
    "result = sampler.run([transp]).result()\n",
    "samp_dist = result[0].data.meas.get_counts()\n",
    "print(samp_dist)"
   ]
  },
  {
   "cell_type": "code",
   "execution_count": 5,
   "id": "7545102f-5836-44e4-bd15-85048b4900a9",
   "metadata": {},
   "outputs": [],
   "source": [
    "from qiskit_ibm_runtime.fake_provider import FakeSherbrooke\n",
    "from qiskit_ibm_runtime import Session, EstimatorV2 as Estimator\n",
    "from qiskit_aer import AerSimulator"
   ]
  },
  {
   "cell_type": "markdown",
   "id": "df00a3e3-3f45-49f2-a493-dba443fa418d",
   "metadata": {},
   "source": [
    "### Runtime Service"
   ]
  },
  {
   "cell_type": "markdown",
   "id": "81391ff9-758c-46c0-b36a-f4e4f94ca48f",
   "metadata": {},
   "source": [
    "```python\n",
    "from qiskit_ibm_runtime import QiskitRuntimeService, EstimatorV2 as Estimator, EstimatorOptions\n",
    "\n",
    "# API Token\n",
    "%set_env QXToken=\n",
    "\n",
    "service = QiskitRuntimeService()\n",
    "backend = service.backend(\"ibm_sherbrooke\")\n",
    "estimator = Estimator(backend=backend, options=options)\n",
    "```"
   ]
  },
  {
   "cell_type": "markdown",
   "id": "04ac7e81-ab9f-4e0b-96dd-3b9ce0f70f51",
   "metadata": {},
   "source": [
    "## Qiskit Primitives"
   ]
  },
  {
   "cell_type": "code",
   "execution_count": 6,
   "id": "6e0348e6-7da0-4242-bc04-fe98da9fcab6",
   "metadata": {},
   "outputs": [
    {
     "name": "stdout",
     "output_type": "stream",
     "text": [
      "{'11': 135, '00': 121}\n"
     ]
    }
   ],
   "source": [
    "from qiskit.primitives import StatevectorSampler\n",
    "\n",
    "qc = QuantumCircuit(2)\n",
    "qc.h(0)\n",
    "qc.cx(0, 1)\n",
    "qc.measure_all()\n",
    "\n",
    "sampler = StatevectorSampler()\n",
    "pub = qc\n",
    "job_sampler = sampler.run([pub], shots=256)\n",
    "\n",
    "result_sampler = job_sampler.result()\n",
    "counts_sampler = result_sampler[0].data.meas.get_counts()\n",
    "print(counts_sampler)"
   ]
  },
  {
   "cell_type": "markdown",
   "id": "eb04a056-928e-4412-8aa7-b94fbbd5df3e",
   "metadata": {},
   "source": [
    "## Pass manager\n",
    "Useful if you want to work directly with a preset pass manager, `generate_preset_pass_maganer()` is called inside `transpile()`."
   ]
  },
  {
   "cell_type": "code",
   "execution_count": 7,
   "id": "e86090ab-5a33-4b8a-8f2c-7f72c7c16ba2",
   "metadata": {},
   "outputs": [],
   "source": [
    "from qiskit.primitives import StatevectorEstimator\n",
    "\n",
    "from qiskit.transpiler import StagedPassManager, InstructionProperties, PassManager\n",
    "from qiskit.transpiler.preset_passmanagers import generate_preset_pass_manager\n",
    "from qiskit.transpiler.preset_passmanagers.plugin import list_stage_plugins\n",
    "from qiskit.transpiler.timing_constraints import TimingConstraints\n",
    "from qiskit.transpiler.passes.scheduling import ASAPScheduleAnalysis,PadDynamicalDecoupling"
   ]
  },
  {
   "cell_type": "code",
   "execution_count": 8,
   "id": "e3fc89e8-2563-47a4-b8d0-b394884125ba",
   "metadata": {},
   "outputs": [
    {
     "ename": "NameError",
     "evalue": "name 'ansatz' is not defined",
     "output_type": "error",
     "traceback": [
      "\u001b[0;31m---------------------------------------------------------------------------\u001b[0m",
      "\u001b[0;31mNameError\u001b[0m                                 Traceback (most recent call last)",
      "Cell \u001b[0;32mIn[8], line 5\u001b[0m\n\u001b[1;32m      2\u001b[0m estimator \u001b[38;5;241m=\u001b[39m StatevectorEstimator() \u001b[38;5;66;03m#To train we use StatevectorEstimator to get the exact simulation\u001b[39;00m\n\u001b[1;32m      3\u001b[0m pm \u001b[38;5;241m=\u001b[39m generate_preset_pass_manager(backend\u001b[38;5;241m=\u001b[39mAerSimulator(), optimization_level\u001b[38;5;241m=\u001b[39m\u001b[38;5;241m3\u001b[39m, seed_transpiler\u001b[38;5;241m=\u001b[39m\u001b[38;5;241m0\u001b[39m) \n\u001b[0;32m----> 5\u001b[0m classifier \u001b[38;5;241m=\u001b[39m qc\u001b[38;5;241m.\u001b[39mcompose(ansatz) \n\u001b[1;32m      6\u001b[0m transpiled_classifier \u001b[38;5;241m=\u001b[39m pm\u001b[38;5;241m.\u001b[39mrun(classifier)\n\u001b[1;32m      7\u001b[0m transpiled_obs \u001b[38;5;241m=\u001b[39m obs\u001b[38;5;241m.\u001b[39mapply_layout(layout\u001b[38;5;241m=\u001b[39mtranspiled_classifier\u001b[38;5;241m.\u001b[39mlayout)\n",
      "\u001b[0;31mNameError\u001b[0m: name 'ansatz' is not defined"
     ]
    }
   ],
   "source": [
    "# Define the estimator and pass manager\n",
    "estimator = StatevectorEstimator()\n",
    "pm = generate_preset_pass_manager(backend=AerSimulator(), optimization_level=3, seed_transpiler=0) \n",
    "\n",
    "classifier = qc.compose(ansatz) \n",
    "transpiled_classifier = pm.run(classifier)\n",
    "transpiled_obs = obs.apply_layout(layout=transpiled_classifier.layout)\n",
    "\n",
    "pub = (transpiled_classifier, transpiled_obs, params)\n",
    "job = estimator.run([pub])\n",
    "result = job.result()[0].data.evs"
   ]
  },
  {
   "cell_type": "code",
   "execution_count": null,
   "id": "7b8c54d3-194f-4da9-b86e-74f2943a1cb1",
   "metadata": {},
   "outputs": [],
   "source": []
  }
 ],
 "metadata": {
  "kernelspec": {
   "display_name": "Python 3 (ipykernel)",
   "language": "python",
   "name": "python3"
  },
  "language_info": {
   "codemirror_mode": {
    "name": "ipython",
    "version": 3
   },
   "file_extension": ".py",
   "mimetype": "text/x-python",
   "name": "python",
   "nbconvert_exporter": "python",
   "pygments_lexer": "ipython3",
   "version": "3.11.9"
  }
 },
 "nbformat": 4,
 "nbformat_minor": 5
}
